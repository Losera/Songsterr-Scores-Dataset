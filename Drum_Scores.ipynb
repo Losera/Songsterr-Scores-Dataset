{
 "cells": [
  {
   "cell_type": "code",
   "execution_count": 1,
   "metadata": {},
   "outputs": [
    {
     "data": {
      "text/plain": [
       "'\\nDataset extracted from Songsterr using selenium\\nTop 500 Drum Scores\\nDownload as GP files\\nFile conversion should be from GP to Midi or from GP to Music XML\\n\\n\\n'"
      ]
     },
     "execution_count": 1,
     "metadata": {},
     "output_type": "execute_result"
    }
   ],
   "source": [
    "\"\"\"\n",
    "Dataset extracted from Songsterr using selenium\n",
    "Top 500 Drum Scores\n",
    "Download as GP files\n",
    "File conversion should be from GP to Midi or from GP to Music XML\n",
    "\n",
    "\n",
    "\"\"\""
   ]
  },
  {
   "cell_type": "code",
   "execution_count": 1,
   "metadata": {},
   "outputs": [],
   "source": [
    "from selenium import webdriver\n",
    "from selenium.webdriver.common.desired_capabilities import DesiredCapabilities\n",
    "from selenium.webdriver.common.by import By\n",
    "from selenium.webdriver.chrome.service import Service\n",
    "from selenium.webdriver.common.action_chains import ActionChains\n",
    "from webdriver_manager.chrome import ChromeDriverManager\n",
    "from concurrent.futures import ThreadPoolExecutor\n",
    "from selenium.common.exceptions import InvalidSessionIdException\n",
    "from selenium.webdriver.common.keys import Keys\n",
    "from selenium.webdriver.support import expected_conditions as EC\n",
    "from selenium.webdriver.support.ui import WebDriverWait\n",
    "import asyncio\n",
    "import time\n",
    "import os"
   ]
  },
  {
   "cell_type": "code",
   "execution_count": 2,
   "metadata": {},
   "outputs": [],
   "source": [
    "drum_score_folder = \"/Users/jnaran/Desktop/SongsterrAPI/Drum_Scores\"\n",
    "sign_in_url = \"https://www.songsterr.com/a/wa/signin\""
   ]
  },
  {
   "cell_type": "code",
   "execution_count": 3,
   "metadata": {},
   "outputs": [],
   "source": [
    "#Define chrome_options\n",
    "chrome_options = webdriver.ChromeOptions()\n",
    "options = ['--headless', '--no-sandbox','--disable-dev-shm-usage']\n",
    "\n",
    "for option in options:\n",
    "  chrome_options.add_argument(option)\n",
    "\n",
    "chrome_options.add_experimental_option(\"prefs\",{\n",
    "    \"download.default_directory\": drum_score_folder,\n",
    "    \"download.prompt_for_download\": False,\n",
    "    \"download.directory_upgrade\": True,\n",
    "    \"safebrowsing.enabled\": True\n",
    "    \n",
    "})"
   ]
  },
  {
   "cell_type": "code",
   "execution_count": 4,
   "metadata": {},
   "outputs": [],
   "source": [
    "links_driver = webdriver.Chrome(options=chrome_options)\n",
    "links_driver.get(\"https://songsterr.com/?inst=drum\")"
   ]
  },
  {
   "cell_type": "code",
   "execution_count": 5,
   "metadata": {},
   "outputs": [],
   "source": [
    "scroll_down = \"\"\"\n",
    "var searchWrap = document.getElementById('search-wrap');\n",
    "searchWrap.scrollTop = searchWrap.scrollHeight;\n",
    "\"\"\""
   ]
  },
  {
   "cell_type": "code",
   "execution_count": 6,
   "metadata": {},
   "outputs": [],
   "source": [
    "links = links_driver.find_elements(By.CSS_SELECTOR, \"div[data-list='songs'] a[data-song]\")"
   ]
  },
  {
   "cell_type": "code",
   "execution_count": 7,
   "metadata": {},
   "outputs": [],
   "source": [
    "def get_links(links_driver,scroll_down):\n",
    "    link_init = 0\n",
    "    link_now = -1\n",
    "\n",
    "    links = links_driver.find_elements(By.CSS_SELECTOR,\"div[data-list='songs'] a[data-song]\")  # initialize links\n",
    "    \n",
    "    while link_init != link_now:\n",
    "        link_init = len(links)\n",
    "\n",
    "        links_driver.execute_script(scroll_down)\n",
    "\n",
    "        time.sleep(1)\n",
    "        \n",
    "        links = links_driver.find_elements(By.CSS_SELECTOR,\"div[data-list='songs'] a[data-song]\")\n",
    "\n",
    "        link_now = len(links)\n",
    "\n",
    "    return links"
   ]
  },
  {
   "cell_type": "code",
   "execution_count": 8,
   "metadata": {},
   "outputs": [],
   "source": [
    "def urls(links):\n",
    "    hrefs = []\n",
    "\n",
    "    for link in links:\n",
    "        href = link.get_attribute('href')\n",
    "        hrefs.append(href)\n",
    "        \n",
    "    return hrefs\n"
   ]
  },
  {
   "cell_type": "code",
   "execution_count": 9,
   "metadata": {},
   "outputs": [],
   "source": [
    "def return_links(links_driver,scroll_down):\n",
    "    links = get_links(links_driver,scroll_down)\n",
    "    hrefs = urls(links)\n",
    "    return hrefs"
   ]
  },
  {
   "cell_type": "code",
   "execution_count": 10,
   "metadata": {},
   "outputs": [],
   "source": [
    "songsterr_urls = return_links(links_driver,scroll_down)"
   ]
  },
  {
   "cell_type": "code",
   "execution_count": 11,
   "metadata": {},
   "outputs": [
    {
     "data": {
      "text/plain": [
       "500"
      ]
     },
     "execution_count": 11,
     "metadata": {},
     "output_type": "execute_result"
    }
   ],
   "source": [
    "len(songsterr_urls)"
   ]
  },
  {
   "cell_type": "code",
   "execution_count": 12,
   "metadata": {},
   "outputs": [],
   "source": [
    "#Initializing driver to extract scores\n",
    "score_driver = webdriver.Chrome(options=chrome_options)\n",
    "wait = WebDriverWait(score_driver, 10)"
   ]
  },
  {
   "cell_type": "code",
   "execution_count": 13,
   "metadata": {},
   "outputs": [],
   "source": [
    "def action_click(element,driver):\n",
    "    actions = ActionChains(driver)\n",
    "    actions.move_to_element(element)\n",
    "    actions.click()\n",
    "    actions.perform()"
   ]
  },
  {
   "cell_type": "code",
   "execution_count": 12,
   "metadata": {},
   "outputs": [],
   "source": [
    "def login(login_driver):\n",
    "\n",
    "    login_keys = ['drumioai@gmail.com','M@)5eVzXSU:p)zs']\n",
    "\n",
    "    username = login_driver.find_element(By.XPATH, \"//input[@type='email' and @name='email']\")\n",
    "    password = login_driver.find_element(By.XPATH, \"//input[@type='password' and @name='password']\")\n",
    "\n",
    "    username.send_keys(login_keys[0])\n",
    "    password.send_keys(login_keys[1])\n",
    "\n",
    "    login_button = login_driver.find_element(By.CSS_SELECTOR, \"#signin\")\n",
    "    login_button.click()\n"
   ]
  },
  {
   "cell_type": "code",
   "execution_count": 13,
   "metadata": {},
   "outputs": [],
   "source": [
    "def login_check(score_driver,timeout=10):\n",
    "    counter = 0\n",
    "    while score_driver.current_url != \"https://www.songsterr.com/\":\n",
    "        time.sleep(1)\n",
    "        counter += 1\n",
    "        if counter > timeout:\n",
    "            raise Exception(\"Login timeout\")\n",
    "        else:\n",
    "            pass\n",
    "            return True\n",
    "   "
   ]
  },
  {
   "cell_type": "code",
   "execution_count": 14,
   "metadata": {},
   "outputs": [],
   "source": [
    "def get_gp_files(score_driver,songsterr_urls):\n",
    "    \n",
    "    score_driver = webdriver.Chrome(options=chrome_options)\n",
    "    wait = We bDriverWait(score_driver, 10)\n",
    "    score_driver.get(sign_in_url)\n",
    "    login(score_driver)\n",
    "\n",
    "    if login_check(score_driver) == True:\n",
    "        print(\"Login successful\")\n",
    "        for url in songsterr_urls:\n",
    "            score_driver.get(url)\n",
    "\n",
    "            b1 = wait.until(EC.presence_of_element_located((By.CSS_SELECTOR, \"button#control-editor.Co02os\")))\n",
    "            b1.click()\n",
    "            \n",
    "            b2 = wait.until(EC.presence_of_element_located((By.CSS_SELECTOR,'rect.Bz2q3')))\n",
    "            action_click(b2,score_driver)\n",
    "\n",
    "            b3 = wait.until(EC.presence_of_element_located((By.CSS_SELECTOR,\"button.z44l.z4xx[type='submit']\")))\n",
    "            b3.click()\n",
    "            \n",
    "            b4 = wait.until(EC.element_to_be_clickable((By.ID,\"control-submitrevision\")))\n",
    "            b4.click()\n",
    "\n",
    "            b5 = wait.until(EC.presence_of_element_located((By.CSS_SELECTOR, \"div.Bta3n.Btaon\")))\n",
    "            try:\n",
    "                    b5.click()\n",
    "                    print('b5.click() executed successfully')\n",
    "            except Exception as e:\n",
    "                print(e)\n",
    "                pass"
   ]
  },
  {
   "cell_type": "code",
   "execution_count": 2,
   "metadata": {},
   "outputs": [],
   "source": [
    "from concurrent.futures import ThreadPoolExecutor\n",
    "\n",
    "def main(score_driver, songsterr_urls):\n",
    "    with ThreadPoolExecutor(max_workers=len(songsterr_urls)) as executor:\n",
    "        # Use a lambda function to pass multiple arguments to get_gp_files\n",
    "        executor.map(lambda url: get_gp_files(score_driver, url), songsterr_urls)"
   ]
  },
  {
   "cell_type": "code",
   "execution_count": 17,
   "metadata": {},
   "outputs": [
    {
     "ename": "TimeoutException",
     "evalue": "Message: \nStacktrace:\n0   chromedriver                        0x0000000104f3853c chromedriver + 3966268\n1   chromedriver                        0x0000000104f30ac8 chromedriver + 3934920\n2   chromedriver                        0x0000000104bb3da0 chromedriver + 277920\n3   chromedriver                        0x0000000104bf6394 chromedriver + 549780\n4   chromedriver                        0x0000000104c2ebf0 chromedriver + 781296\n5   chromedriver                        0x0000000104beafb0 chromedriver + 503728\n6   chromedriver                        0x0000000104beba28 chromedriver + 506408\n7   chromedriver                        0x0000000104efd724 chromedriver + 3725092\n8   chromedriver                        0x0000000104f01c18 chromedriver + 3742744\n9   chromedriver                        0x0000000104ee620c chromedriver + 3629580\n10  chromedriver                        0x0000000104f02714 chromedriver + 3745556\n11  chromedriver                        0x0000000104ed9584 chromedriver + 3577220\n12  chromedriver                        0x0000000104f20f74 chromedriver + 3870580\n13  chromedriver                        0x0000000104f21118 chromedriver + 3871000\n14  chromedriver                        0x0000000104f30738 chromedriver + 3934008\n15  libsystem_pthread.dylib             0x00000001b97b1240 _pthread_start + 148\n16  libsystem_pthread.dylib             0x00000001b97ac024 thread_start + 8\n",
     "output_type": "error",
     "traceback": [
      "\u001b[0;31m---------------------------------------------------------------------------\u001b[0m",
      "\u001b[0;31mTimeoutException\u001b[0m                          Traceback (most recent call last)",
      "Cell \u001b[0;32mIn[17], line 1\u001b[0m\n\u001b[0;32m----> 1\u001b[0m get_gp_files(score_driver, songsterr_urls)\n",
      "Cell \u001b[0;32mIn[16], line 6\u001b[0m, in \u001b[0;36mget_gp_files\u001b[0;34m(score_driver, songsterr_urls)\u001b[0m\n\u001b[1;32m      4\u001b[0m wait \u001b[38;5;241m=\u001b[39m WebDriverWait(score_driver, \u001b[38;5;241m10\u001b[39m)\n\u001b[1;32m      5\u001b[0m score_driver\u001b[38;5;241m.\u001b[39mget(sign_in_url)\n\u001b[0;32m----> 6\u001b[0m login(score_driver)\n\u001b[1;32m      8\u001b[0m \u001b[38;5;28;01mif\u001b[39;00m login_check(score_driver) \u001b[38;5;241m==\u001b[39m \u001b[38;5;28;01mTrue\u001b[39;00m:\n\u001b[1;32m      9\u001b[0m     \u001b[38;5;28mprint\u001b[39m(\u001b[38;5;124m\"\u001b[39m\u001b[38;5;124mLogin successful\u001b[39m\u001b[38;5;124m\"\u001b[39m)\n",
      "Cell \u001b[0;32mIn[14], line 5\u001b[0m, in \u001b[0;36mlogin\u001b[0;34m(login_driver)\u001b[0m\n\u001b[1;32m      1\u001b[0m \u001b[38;5;28;01mdef\u001b[39;00m \u001b[38;5;21mlogin\u001b[39m(login_driver):\n\u001b[1;32m      3\u001b[0m     login_keys \u001b[38;5;241m=\u001b[39m [\u001b[38;5;124m'\u001b[39m\u001b[38;5;124mdrumioai@gmail.com\u001b[39m\u001b[38;5;124m'\u001b[39m,\u001b[38;5;124m'\u001b[39m\u001b[38;5;124mM@)5eVzXSU:p)zs\u001b[39m\u001b[38;5;124m'\u001b[39m]\n\u001b[0;32m----> 5\u001b[0m     username \u001b[38;5;241m=\u001b[39m wait\u001b[38;5;241m.\u001b[39muntil(EC\u001b[38;5;241m.\u001b[39mpresence_of_element_located((By\u001b[38;5;241m.\u001b[39mXPATH, \u001b[38;5;124m\"\u001b[39m\u001b[38;5;124m//input[@type=\u001b[39m\u001b[38;5;124m'\u001b[39m\u001b[38;5;124memail\u001b[39m\u001b[38;5;124m'\u001b[39m\u001b[38;5;124m and @name=\u001b[39m\u001b[38;5;124m'\u001b[39m\u001b[38;5;124memail\u001b[39m\u001b[38;5;124m'\u001b[39m\u001b[38;5;124m]\u001b[39m\u001b[38;5;124m\"\u001b[39m)))\n\u001b[1;32m      6\u001b[0m     password \u001b[38;5;241m=\u001b[39m wait\u001b[38;5;241m.\u001b[39muntil(EC\u001b[38;5;241m.\u001b[39mpresence_of_element_located((By\u001b[38;5;241m.\u001b[39mXPATH, \u001b[38;5;124m\"\u001b[39m\u001b[38;5;124m//input[@type=\u001b[39m\u001b[38;5;124m'\u001b[39m\u001b[38;5;124mpassword\u001b[39m\u001b[38;5;124m'\u001b[39m\u001b[38;5;124m and @name=\u001b[39m\u001b[38;5;124m'\u001b[39m\u001b[38;5;124mpassword\u001b[39m\u001b[38;5;124m'\u001b[39m\u001b[38;5;124m]\u001b[39m\u001b[38;5;124m\"\u001b[39m)))\n\u001b[1;32m      8\u001b[0m     username\u001b[38;5;241m.\u001b[39msend_keys(login_keys[\u001b[38;5;241m0\u001b[39m])\n",
      "File \u001b[0;32m~/anaconda3/lib/python3.11/site-packages/selenium/webdriver/support/wait.py:105\u001b[0m, in \u001b[0;36mWebDriverWait.until\u001b[0;34m(self, method, message)\u001b[0m\n\u001b[1;32m    103\u001b[0m     \u001b[38;5;28;01mif\u001b[39;00m time\u001b[38;5;241m.\u001b[39mmonotonic() \u001b[38;5;241m>\u001b[39m end_time:\n\u001b[1;32m    104\u001b[0m         \u001b[38;5;28;01mbreak\u001b[39;00m\n\u001b[0;32m--> 105\u001b[0m \u001b[38;5;28;01mraise\u001b[39;00m TimeoutException(message, screen, stacktrace)\n",
      "\u001b[0;31mTimeoutException\u001b[0m: Message: \nStacktrace:\n0   chromedriver                        0x0000000104f3853c chromedriver + 3966268\n1   chromedriver                        0x0000000104f30ac8 chromedriver + 3934920\n2   chromedriver                        0x0000000104bb3da0 chromedriver + 277920\n3   chromedriver                        0x0000000104bf6394 chromedriver + 549780\n4   chromedriver                        0x0000000104c2ebf0 chromedriver + 781296\n5   chromedriver                        0x0000000104beafb0 chromedriver + 503728\n6   chromedriver                        0x0000000104beba28 chromedriver + 506408\n7   chromedriver                        0x0000000104efd724 chromedriver + 3725092\n8   chromedriver                        0x0000000104f01c18 chromedriver + 3742744\n9   chromedriver                        0x0000000104ee620c chromedriver + 3629580\n10  chromedriver                        0x0000000104f02714 chromedriver + 3745556\n11  chromedriver                        0x0000000104ed9584 chromedriver + 3577220\n12  chromedriver                        0x0000000104f20f74 chromedriver + 3870580\n13  chromedriver                        0x0000000104f21118 chromedriver + 3871000\n14  chromedriver                        0x0000000104f30738 chromedriver + 3934008\n15  libsystem_pthread.dylib             0x00000001b97b1240 _pthread_start + 148\n16  libsystem_pthread.dylib             0x00000001b97ac024 thread_start + 8\n"
     ]
    }
   ],
   "source": [
    "get_gp_files(score_driver, songsterr_urls)"
   ]
  },
  {
   "cell_type": "code",
   "execution_count": 48,
   "metadata": {},
   "outputs": [],
   "source": [
    "# Test environmemnt for login\n",
    "\n",
    "driver = webdriver.Chrome()\n",
    "driver.get(sign_in_url)"
   ]
  },
  {
   "cell_type": "code",
   "execution_count": 49,
   "metadata": {},
   "outputs": [],
   "source": [
    "login(driver)"
   ]
  },
  {
   "cell_type": "code",
   "execution_count": 37,
   "metadata": {},
   "outputs": [],
   "source": []
  }
 ],
 "metadata": {
  "kernelspec": {
   "display_name": "Python 3.11.3 ('base')",
   "language": "python",
   "name": "python3"
  },
  "language_info": {
   "codemirror_mode": {
    "name": "ipython",
    "version": 3
   },
   "file_extension": ".py",
   "mimetype": "text/x-python",
   "name": "python",
   "nbconvert_exporter": "python",
   "pygments_lexer": "ipython3",
   "version": "3.11.3"
  },
  "orig_nbformat": 4,
  "vscode": {
   "interpreter": {
    "hash": "fe99b10efe69d22e6b122725081ede3096955700fc42b29f6ab519b32f5e2d9b"
   }
  }
 },
 "nbformat": 4,
 "nbformat_minor": 2
}
