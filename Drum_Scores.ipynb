{
 "cells": [
  {
   "cell_type": "code",
   "execution_count": 111,
   "metadata": {},
   "outputs": [
    {
     "data": {
      "text/plain": [
       "'\\nDataset extracted from Songsterr using selenium\\nTop 500 Drum Scores\\nDownload as GP files\\nFile conversion should be from GP to Midi or from GP to Music XML\\n\\n\\n'"
      ]
     },
     "execution_count": 111,
     "metadata": {},
     "output_type": "execute_result"
    }
   ],
   "source": [
    "\"\"\"\n",
    "Dataset extracted from Songsterr using selenium\n",
    "Top 500 Drum Scores\n",
    "Download as GP files\n",
    "File conversion should be from GP to Midi or from GP to Music XML\n",
    "\n",
    "\n",
    "\"\"\""
   ]
  },
  {
   "cell_type": "code",
   "execution_count": 1,
   "metadata": {},
   "outputs": [],
   "source": [
    "from selenium import webdriver\n",
    "from selenium.webdriver.common.desired_capabilities import DesiredCapabilities\n",
    "from selenium.webdriver.common.by import By\n",
    "from selenium.webdriver.chrome.service import Service\n",
    "from selenium.webdriver.common.action_chains import ActionChains\n",
    "from webdriver_manager.chrome import ChromeDriverManager\n",
    "from concurrent.futures import ThreadPoolExecutor\n",
    "from selenium.common.exceptions import InvalidSessionIdException\n",
    "from selenium.webdriver.common.keys import Keys\n",
    "from selenium.webdriver.support import expected_conditions as EC\n",
    "from selenium.webdriver.support.ui import WebDriverWait\n",
    "import asyncio\n",
    "import time\n",
    "import os"
   ]
  },
  {
   "cell_type": "code",
   "execution_count": 113,
   "metadata": {},
   "outputs": [],
   "source": [
    "drum_score_folder = \"/Users/jnaran/Desktop/SongsterrAPI/Drum_Scores\"\n",
    "sign_in_url = \"https://www.songsterr.com/a/wa/signin\""
   ]
  },
  {
   "cell_type": "code",
   "execution_count": 114,
   "metadata": {},
   "outputs": [],
   "source": [
    "#Define chrome_options\n",
    "chrome_options = webdriver.ChromeOptions()\n",
    "options = ['--headless', '--no-sandbox','--disable-dev-shm-usage']\n",
    "\n",
    "for option in options:\n",
    "  chrome_options.add_argument(option)\n",
    "\n",
    "chrome_options.add_experimental_option(\"prefs\",{\n",
    "    \"download.default_directory\": drum_score_folder,\n",
    "    \"download.prompt_for_download\": False,\n",
    "    \"download.directory_upgrade\": True,\n",
    "    \"safebrowsing.enabled\": True\n",
    "    \n",
    "})"
   ]
  },
  {
   "cell_type": "code",
   "execution_count": 115,
   "metadata": {},
   "outputs": [],
   "source": [
    "links_driver = webdriver.Chrome(options=chrome_options)\n",
    "links_driver.get(\"https://songsterr.com/?inst=drum\")"
   ]
  },
  {
   "cell_type": "code",
   "execution_count": 116,
   "metadata": {},
   "outputs": [],
   "source": [
    "scroll_down = \"\"\"\n",
    "var searchWrap = document.getElementById('search-wrap');\n",
    "searchWrap.scrollTop = searchWrap.scrollHeight;\n",
    "\"\"\"\n",
    "rect_click = \"\"\"\n",
    "    arguments[0].dispatchEvent(new PointerEvent ('pointerdown', {\n",
    "    bubbles: true,\n",
    "    cancelable: true,\n",
    "    pointerId: 1,\n",
    "    pointerType: 'mouse',\n",
    "    isPrimary: true\n",
    "}));\n",
    "\"\"\""
   ]
  },
  {
   "cell_type": "code",
   "execution_count": 117,
   "metadata": {},
   "outputs": [],
   "source": [
    "links = links_driver.find_elements(By.CSS_SELECTOR, \"div[data-list='songs'] a[data-song]\")"
   ]
  },
  {
   "cell_type": "code",
   "execution_count": 118,
   "metadata": {},
   "outputs": [],
   "source": [
    "def get_links(links_driver,scroll_down):\n",
    "    link_init = 0\n",
    "    link_now = -1\n",
    "\n",
    "    links = links_driver.find_elements(By.CSS_SELECTOR,\"div[data-list='songs'] a[data-song]\")  # initialize links\n",
    "    \n",
    "    while link_init != link_now:\n",
    "        link_init = len(links)\n",
    "\n",
    "        links_driver.execute_script(scroll_down)\n",
    "\n",
    "        time.sleep(1)\n",
    "        \n",
    "        links = links_driver.find_elements(By.CSS_SELECTOR,\"div[data-list='songs'] a[data-song]\")\n",
    "\n",
    "        link_now = len(links)\n",
    "\n",
    "    return links"
   ]
  },
  {
   "cell_type": "code",
   "execution_count": 119,
   "metadata": {},
   "outputs": [],
   "source": [
    "def urls(links):\n",
    "    hrefs = []\n",
    "\n",
    "    for link in links:\n",
    "        href = link.get_attribute('href')\n",
    "        hrefs.append(href)\n",
    "        \n",
    "    return hrefs\n"
   ]
  },
  {
   "cell_type": "code",
   "execution_count": 120,
   "metadata": {},
   "outputs": [],
   "source": [
    "def return_links(links_driver,scroll_down):\n",
    "    links = get_links(links_driver,scroll_down)\n",
    "    hrefs = urls(links)\n",
    "    return hrefs"
   ]
  },
  {
   "cell_type": "code",
   "execution_count": 121,
   "metadata": {},
   "outputs": [],
   "source": [
    "songsterr_urls = return_links(links_driver,scroll_down)"
   ]
  },
  {
   "cell_type": "code",
   "execution_count": 122,
   "metadata": {},
   "outputs": [],
   "source": [
    "#Initializing driver to extract scores\n",
    "score_driver = webdriver.Chrome(options=chrome_options)\n",
    "wait = WebDriverWait(score_driver, 10)"
   ]
  },
  {
   "cell_type": "code",
   "execution_count": 123,
   "metadata": {},
   "outputs": [],
   "source": [
    "def action_click(element,driver):\n",
    "    actions = ActionChains(driver)\n",
    "    actions.move_to_element(element)\n",
    "    actions.click()\n",
    "    actions.perform()"
   ]
  },
  {
   "cell_type": "code",
   "execution_count": 124,
   "metadata": {},
   "outputs": [],
   "source": [
    "def login(login_driver):\n",
    "\n",
    "    login_keys = ['drumioai@gmail.com','M@)5eVzXSU:p)zs']\n",
    "\n",
    "    username = login_driver.find_element(By.CSS_SELECTOR, \"input[type='email']\")\n",
    "    password = login_driver.find_element(By.CSS_SELECTOR, \"input[type='password']\")\n",
    "\n",
    "    username.send_keys(login_keys[0])\n",
    "    password.send_keys(login_keys[1])\n",
    "\n",
    "    login_button = login_driver.find_element(By.CSS_SELECTOR, \"#signin\")\n",
    "    login_button.click()\n",
    "\n",
    "    return login_driver"
   ]
  },
  {
   "cell_type": "code",
   "execution_count": null,
   "metadata": {},
   "outputs": [],
   "source": [
    "def login_check(score_driver,timeout=10):\n",
    "    counter = 0\n",
    "    while score_driver.current_url != \"https://www.songsterr.com/\":\n",
    "        time.sleep(1)\n",
    "        counter += 1\n",
    "        if counter > timeout:\n",
    "            raise Exception(\"Login timeout\")\n",
    "   "
   ]
  },
  {
   "cell_type": "code",
   "execution_count": 126,
   "metadata": {},
   "outputs": [],
   "source": [
    "def get_gp_files(score_driver,songsterr_urls):\n",
    "\n",
    "    for url in songsterr_urls:\n",
    "        score_driver.get(sign_in_url)\n",
    "\n",
    "        #Logging in\n",
    "        login(score_driver)\n",
    "        login_check(score_driver)\n",
    "\n",
    "        score_driver.get(url)\n",
    "\n",
    "        b1 = wait.until(EC.presence_of_element_located((By.CSS_SELECTOR, \"button#control-editor.Co02os\")))\n",
    "        b1.click()\n",
    "        \n",
    "        b2 = wait.until(EC.presence_of_element_located((By.CSS_SELECTOR,'rect.Bz2q3')))\n",
    "        action_click(b2,score_driver)\n",
    "\n",
    "        b3 = wait.until(EC.presence_of_element_located((By.CSS_SELECTOR,\"button.z44l.z4xx[type='submit']\")))\n",
    "        b3.click()\n",
    "        \n",
    "        b4 = wait.until(EC.element_to_be_clickable((By.ID,\"control-submitrevision\")))\n",
    "        b4.click()\n",
    "\n",
    "        b5 = wait.until(EC.presence_of_element_located((By.CSS_SELECTOR, \"div.Bta3n.Btaon\")))\n",
    "        b5.click()\n",
    "    "
   ]
  },
  {
   "cell_type": "code",
   "execution_count": 138,
   "metadata": {},
   "outputs": [
    {
     "ename": "NoSuchElementException",
     "evalue": "Message: no such element: Unable to locate element: {\"method\":\"css selector\",\"selector\":\"div.Bta2eh > div.Bta3n.Btaon\"}\n  (Session info: chrome-headless-shell=121.0.6167.184); For documentation on this error, please visit: https://www.selenium.dev/documentation/webdriver/troubleshooting/errors#no-such-element-exception\nStacktrace:\n0   chromedriver                        0x0000000103222814 chromedriver + 4040724\n1   chromedriver                        0x000000010321aa18 chromedriver + 4008472\n2   chromedriver                        0x0000000102e8d870 chromedriver + 284784\n3   chromedriver                        0x0000000102ed1080 chromedriver + 561280\n4   chromedriver                        0x0000000102f0b048 chromedriver + 798792\n5   chromedriver                        0x0000000102ec574c chromedriver + 513868\n6   chromedriver                        0x0000000102ec6044 chromedriver + 516164\n7   chromedriver                        0x00000001031e7a3c chromedriver + 3799612\n8   chromedriver                        0x00000001031ebf1c chromedriver + 3817244\n9   chromedriver                        0x00000001031d0298 chromedriver + 3703448\n10  chromedriver                        0x00000001031eca64 chromedriver + 3820132\n11  chromedriver                        0x00000001031c3054 chromedriver + 3649620\n12  chromedriver                        0x0000000103209e74 chromedriver + 3939956\n13  chromedriver                        0x0000000103209fec chromedriver + 3940332\n14  chromedriver                        0x000000010321a698 chromedriver + 4007576\n15  libsystem_pthread.dylib             0x00000001ac769240 _pthread_start + 148\n16  libsystem_pthread.dylib             0x00000001ac764024 thread_start + 8\n",
     "output_type": "error",
     "traceback": [
      "\u001b[0;31m---------------------------------------------------------------------------\u001b[0m",
      "\u001b[0;31mNoSuchElementException\u001b[0m                    Traceback (most recent call last)",
      "Cell \u001b[0;32mIn[138], line 2\u001b[0m\n\u001b[1;32m      1\u001b[0m nirvana_url \u001b[38;5;241m=\u001b[39m \u001b[38;5;124m\"\u001b[39m\u001b[38;5;124mhttps://www.songsterr.com/a/wsa/nirvana-smells-like-teen-spirit-drum-tab-s269?open=editor\u001b[39m\u001b[38;5;124m\"\u001b[39m\n\u001b[0;32m----> 2\u001b[0m one_get_gp_file(nirvana_url)\n",
      "Cell \u001b[0;32mIn[137], line 22\u001b[0m, in \u001b[0;36mone_get_gp_file\u001b[0;34m(nirvana_url)\u001b[0m\n\u001b[1;32m     19\u001b[0m b4 \u001b[38;5;241m=\u001b[39m score_driver\u001b[38;5;241m.\u001b[39mfind_element(By\u001b[38;5;241m.\u001b[39mCSS_SELECTOR,\u001b[38;5;124m\"\u001b[39m\u001b[38;5;124m#control-submitrevision\u001b[39m\u001b[38;5;124m\"\u001b[39m)\n\u001b[1;32m     20\u001b[0m b4\u001b[38;5;241m.\u001b[39mclick()\n\u001b[0;32m---> 22\u001b[0m b5 \u001b[38;5;241m=\u001b[39m score_driver\u001b[38;5;241m.\u001b[39mfind_element(By\u001b[38;5;241m.\u001b[39mCSS_SELECTOR, \u001b[38;5;124m\"\u001b[39m\u001b[38;5;124mdiv.Bta2eh > div.Bta3n.Btaon\u001b[39m\u001b[38;5;124m\"\u001b[39m)\n\u001b[1;32m     23\u001b[0m b5\u001b[38;5;241m.\u001b[39mclick()\n",
      "File \u001b[0;32m~/anaconda3/lib/python3.11/site-packages/selenium/webdriver/remote/webdriver.py:741\u001b[0m, in \u001b[0;36mWebDriver.find_element\u001b[0;34m(self, by, value)\u001b[0m\n\u001b[1;32m    738\u001b[0m     by \u001b[38;5;241m=\u001b[39m By\u001b[38;5;241m.\u001b[39mCSS_SELECTOR\n\u001b[1;32m    739\u001b[0m     value \u001b[38;5;241m=\u001b[39m \u001b[38;5;124mf\u001b[39m\u001b[38;5;124m'\u001b[39m\u001b[38;5;124m[name=\u001b[39m\u001b[38;5;124m\"\u001b[39m\u001b[38;5;132;01m{\u001b[39;00mvalue\u001b[38;5;132;01m}\u001b[39;00m\u001b[38;5;124m\"\u001b[39m\u001b[38;5;124m]\u001b[39m\u001b[38;5;124m'\u001b[39m\n\u001b[0;32m--> 741\u001b[0m \u001b[38;5;28;01mreturn\u001b[39;00m \u001b[38;5;28mself\u001b[39m\u001b[38;5;241m.\u001b[39mexecute(Command\u001b[38;5;241m.\u001b[39mFIND_ELEMENT, {\u001b[38;5;124m\"\u001b[39m\u001b[38;5;124musing\u001b[39m\u001b[38;5;124m\"\u001b[39m: by, \u001b[38;5;124m\"\u001b[39m\u001b[38;5;124mvalue\u001b[39m\u001b[38;5;124m\"\u001b[39m: value})[\u001b[38;5;124m\"\u001b[39m\u001b[38;5;124mvalue\u001b[39m\u001b[38;5;124m\"\u001b[39m]\n",
      "File \u001b[0;32m~/anaconda3/lib/python3.11/site-packages/selenium/webdriver/remote/webdriver.py:347\u001b[0m, in \u001b[0;36mWebDriver.execute\u001b[0;34m(self, driver_command, params)\u001b[0m\n\u001b[1;32m    345\u001b[0m response \u001b[38;5;241m=\u001b[39m \u001b[38;5;28mself\u001b[39m\u001b[38;5;241m.\u001b[39mcommand_executor\u001b[38;5;241m.\u001b[39mexecute(driver_command, params)\n\u001b[1;32m    346\u001b[0m \u001b[38;5;28;01mif\u001b[39;00m response:\n\u001b[0;32m--> 347\u001b[0m     \u001b[38;5;28mself\u001b[39m\u001b[38;5;241m.\u001b[39merror_handler\u001b[38;5;241m.\u001b[39mcheck_response(response)\n\u001b[1;32m    348\u001b[0m     response[\u001b[38;5;124m\"\u001b[39m\u001b[38;5;124mvalue\u001b[39m\u001b[38;5;124m\"\u001b[39m] \u001b[38;5;241m=\u001b[39m \u001b[38;5;28mself\u001b[39m\u001b[38;5;241m.\u001b[39m_unwrap_value(response\u001b[38;5;241m.\u001b[39mget(\u001b[38;5;124m\"\u001b[39m\u001b[38;5;124mvalue\u001b[39m\u001b[38;5;124m\"\u001b[39m, \u001b[38;5;28;01mNone\u001b[39;00m))\n\u001b[1;32m    349\u001b[0m     \u001b[38;5;28;01mreturn\u001b[39;00m response\n",
      "File \u001b[0;32m~/anaconda3/lib/python3.11/site-packages/selenium/webdriver/remote/errorhandler.py:229\u001b[0m, in \u001b[0;36mErrorHandler.check_response\u001b[0;34m(self, response)\u001b[0m\n\u001b[1;32m    227\u001b[0m         alert_text \u001b[38;5;241m=\u001b[39m value[\u001b[38;5;124m\"\u001b[39m\u001b[38;5;124malert\u001b[39m\u001b[38;5;124m\"\u001b[39m]\u001b[38;5;241m.\u001b[39mget(\u001b[38;5;124m\"\u001b[39m\u001b[38;5;124mtext\u001b[39m\u001b[38;5;124m\"\u001b[39m)\n\u001b[1;32m    228\u001b[0m     \u001b[38;5;28;01mraise\u001b[39;00m exception_class(message, screen, stacktrace, alert_text)  \u001b[38;5;66;03m# type: ignore[call-arg]  # mypy is not smart enough here\u001b[39;00m\n\u001b[0;32m--> 229\u001b[0m \u001b[38;5;28;01mraise\u001b[39;00m exception_class(message, screen, stacktrace)\n",
      "\u001b[0;31mNoSuchElementException\u001b[0m: Message: no such element: Unable to locate element: {\"method\":\"css selector\",\"selector\":\"div.Bta2eh > div.Bta3n.Btaon\"}\n  (Session info: chrome-headless-shell=121.0.6167.184); For documentation on this error, please visit: https://www.selenium.dev/documentation/webdriver/troubleshooting/errors#no-such-element-exception\nStacktrace:\n0   chromedriver                        0x0000000103222814 chromedriver + 4040724\n1   chromedriver                        0x000000010321aa18 chromedriver + 4008472\n2   chromedriver                        0x0000000102e8d870 chromedriver + 284784\n3   chromedriver                        0x0000000102ed1080 chromedriver + 561280\n4   chromedriver                        0x0000000102f0b048 chromedriver + 798792\n5   chromedriver                        0x0000000102ec574c chromedriver + 513868\n6   chromedriver                        0x0000000102ec6044 chromedriver + 516164\n7   chromedriver                        0x00000001031e7a3c chromedriver + 3799612\n8   chromedriver                        0x00000001031ebf1c chromedriver + 3817244\n9   chromedriver                        0x00000001031d0298 chromedriver + 3703448\n10  chromedriver                        0x00000001031eca64 chromedriver + 3820132\n11  chromedriver                        0x00000001031c3054 chromedriver + 3649620\n12  chromedriver                        0x0000000103209e74 chromedriver + 3939956\n13  chromedriver                        0x0000000103209fec chromedriver + 3940332\n14  chromedriver                        0x000000010321a698 chromedriver + 4007576\n15  libsystem_pthread.dylib             0x00000001ac769240 _pthread_start + 148\n16  libsystem_pthread.dylib             0x00000001ac764024 thread_start + 8\n"
     ]
    }
   ],
   "source": [
    "get_gp_files(score_driver,songsterr_urls)"
   ]
  },
  {
   "cell_type": "code",
   "execution_count": 127,
   "metadata": {},
   "outputs": [],
   "source": [
    "def main(songsterr_urls):\n",
    "    with ThreadPoolExecutor(max_workers=len(songsterr_urls)) as executor:\n",
    "        executor.map(get_gp_files,songsterr_urls)"
   ]
  },
  {
   "cell_type": "code",
   "execution_count": null,
   "metadata": {},
   "outputs": [],
   "source": [
    "main(songsterr_urls)"
   ]
  },
  {
   "cell_type": "code",
   "execution_count": 128,
   "metadata": {},
   "outputs": [
    {
     "ename": "NoSuchElementException",
     "evalue": "Message: no such element: Unable to locate element: {\"method\":\"xpath\",\"selector\":\"//div[contains(@class, 'Bta3n') and contains(@class, 'Btaon') and contains(text(), 'Download your changes as a file')]\"}\n  (Session info: chrome-headless-shell=121.0.6167.184); For documentation on this error, please visit: https://www.selenium.dev/documentation/webdriver/troubleshooting/errors#no-such-element-exception\nStacktrace:\n0   chromedriver                        0x0000000103222814 chromedriver + 4040724\n1   chromedriver                        0x000000010321aa18 chromedriver + 4008472\n2   chromedriver                        0x0000000102e8d870 chromedriver + 284784\n3   chromedriver                        0x0000000102ed1080 chromedriver + 561280\n4   chromedriver                        0x0000000102f0b048 chromedriver + 798792\n5   chromedriver                        0x0000000102ec574c chromedriver + 513868\n6   chromedriver                        0x0000000102ec6044 chromedriver + 516164\n7   chromedriver                        0x00000001031e7a3c chromedriver + 3799612\n8   chromedriver                        0x00000001031ebf1c chromedriver + 3817244\n9   chromedriver                        0x00000001031d0298 chromedriver + 3703448\n10  chromedriver                        0x00000001031eca64 chromedriver + 3820132\n11  chromedriver                        0x00000001031c3054 chromedriver + 3649620\n12  chromedriver                        0x0000000103209e74 chromedriver + 3939956\n13  chromedriver                        0x0000000103209fec chromedriver + 3940332\n14  chromedriver                        0x000000010321a698 chromedriver + 4007576\n15  libsystem_pthread.dylib             0x00000001ac769240 _pthread_start + 148\n16  libsystem_pthread.dylib             0x00000001ac764024 thread_start + 8\n",
     "output_type": "error",
     "traceback": [
      "\u001b[0;31m---------------------------------------------------------------------------\u001b[0m",
      "\u001b[0;31mNoSuchElementException\u001b[0m                    Traceback (most recent call last)",
      "Cell \u001b[0;32mIn[128], line 2\u001b[0m\n\u001b[1;32m      1\u001b[0m songsterr_urls \u001b[38;5;241m=\u001b[39m return_links(links_driver,scroll_down)\n\u001b[0;32m----> 2\u001b[0m get_gp_file(songsterr_urls)\n",
      "Cell \u001b[0;32mIn[126], line 26\u001b[0m, in \u001b[0;36mget_gp_file\u001b[0;34m(songsterr_urls)\u001b[0m\n\u001b[1;32m     23\u001b[0m b4 \u001b[38;5;241m=\u001b[39m score_driver\u001b[38;5;241m.\u001b[39mfind_element(By\u001b[38;5;241m.\u001b[39mCSS_SELECTOR,\u001b[38;5;124m\"\u001b[39m\u001b[38;5;124m#control-submitrevision\u001b[39m\u001b[38;5;124m\"\u001b[39m)\n\u001b[1;32m     24\u001b[0m b4\u001b[38;5;241m.\u001b[39mclick()\n\u001b[0;32m---> 26\u001b[0m b5 \u001b[38;5;241m=\u001b[39m score_driver\u001b[38;5;241m.\u001b[39mfind_element(By\u001b[38;5;241m.\u001b[39mXPATH,  \u001b[38;5;124m\"\u001b[39m\u001b[38;5;124m//div[contains(@class, \u001b[39m\u001b[38;5;124m'\u001b[39m\u001b[38;5;124mBta3n\u001b[39m\u001b[38;5;124m'\u001b[39m\u001b[38;5;124m) and contains(@class, \u001b[39m\u001b[38;5;124m'\u001b[39m\u001b[38;5;124mBtaon\u001b[39m\u001b[38;5;124m'\u001b[39m\u001b[38;5;124m) and contains(text(), \u001b[39m\u001b[38;5;124m'\u001b[39m\u001b[38;5;124mDownload your changes as a file\u001b[39m\u001b[38;5;124m'\u001b[39m\u001b[38;5;124m)]\u001b[39m\u001b[38;5;124m\"\u001b[39m)\n\u001b[1;32m     27\u001b[0m b5\u001b[38;5;241m.\u001b[39mclick()\n",
      "File \u001b[0;32m~/anaconda3/lib/python3.11/site-packages/selenium/webdriver/remote/webdriver.py:741\u001b[0m, in \u001b[0;36mWebDriver.find_element\u001b[0;34m(self, by, value)\u001b[0m\n\u001b[1;32m    738\u001b[0m     by \u001b[38;5;241m=\u001b[39m By\u001b[38;5;241m.\u001b[39mCSS_SELECTOR\n\u001b[1;32m    739\u001b[0m     value \u001b[38;5;241m=\u001b[39m \u001b[38;5;124mf\u001b[39m\u001b[38;5;124m'\u001b[39m\u001b[38;5;124m[name=\u001b[39m\u001b[38;5;124m\"\u001b[39m\u001b[38;5;132;01m{\u001b[39;00mvalue\u001b[38;5;132;01m}\u001b[39;00m\u001b[38;5;124m\"\u001b[39m\u001b[38;5;124m]\u001b[39m\u001b[38;5;124m'\u001b[39m\n\u001b[0;32m--> 741\u001b[0m \u001b[38;5;28;01mreturn\u001b[39;00m \u001b[38;5;28mself\u001b[39m\u001b[38;5;241m.\u001b[39mexecute(Command\u001b[38;5;241m.\u001b[39mFIND_ELEMENT, {\u001b[38;5;124m\"\u001b[39m\u001b[38;5;124musing\u001b[39m\u001b[38;5;124m\"\u001b[39m: by, \u001b[38;5;124m\"\u001b[39m\u001b[38;5;124mvalue\u001b[39m\u001b[38;5;124m\"\u001b[39m: value})[\u001b[38;5;124m\"\u001b[39m\u001b[38;5;124mvalue\u001b[39m\u001b[38;5;124m\"\u001b[39m]\n",
      "File \u001b[0;32m~/anaconda3/lib/python3.11/site-packages/selenium/webdriver/remote/webdriver.py:347\u001b[0m, in \u001b[0;36mWebDriver.execute\u001b[0;34m(self, driver_command, params)\u001b[0m\n\u001b[1;32m    345\u001b[0m response \u001b[38;5;241m=\u001b[39m \u001b[38;5;28mself\u001b[39m\u001b[38;5;241m.\u001b[39mcommand_executor\u001b[38;5;241m.\u001b[39mexecute(driver_command, params)\n\u001b[1;32m    346\u001b[0m \u001b[38;5;28;01mif\u001b[39;00m response:\n\u001b[0;32m--> 347\u001b[0m     \u001b[38;5;28mself\u001b[39m\u001b[38;5;241m.\u001b[39merror_handler\u001b[38;5;241m.\u001b[39mcheck_response(response)\n\u001b[1;32m    348\u001b[0m     response[\u001b[38;5;124m\"\u001b[39m\u001b[38;5;124mvalue\u001b[39m\u001b[38;5;124m\"\u001b[39m] \u001b[38;5;241m=\u001b[39m \u001b[38;5;28mself\u001b[39m\u001b[38;5;241m.\u001b[39m_unwrap_value(response\u001b[38;5;241m.\u001b[39mget(\u001b[38;5;124m\"\u001b[39m\u001b[38;5;124mvalue\u001b[39m\u001b[38;5;124m\"\u001b[39m, \u001b[38;5;28;01mNone\u001b[39;00m))\n\u001b[1;32m    349\u001b[0m     \u001b[38;5;28;01mreturn\u001b[39;00m response\n",
      "File \u001b[0;32m~/anaconda3/lib/python3.11/site-packages/selenium/webdriver/remote/errorhandler.py:229\u001b[0m, in \u001b[0;36mErrorHandler.check_response\u001b[0;34m(self, response)\u001b[0m\n\u001b[1;32m    227\u001b[0m         alert_text \u001b[38;5;241m=\u001b[39m value[\u001b[38;5;124m\"\u001b[39m\u001b[38;5;124malert\u001b[39m\u001b[38;5;124m\"\u001b[39m]\u001b[38;5;241m.\u001b[39mget(\u001b[38;5;124m\"\u001b[39m\u001b[38;5;124mtext\u001b[39m\u001b[38;5;124m\"\u001b[39m)\n\u001b[1;32m    228\u001b[0m     \u001b[38;5;28;01mraise\u001b[39;00m exception_class(message, screen, stacktrace, alert_text)  \u001b[38;5;66;03m# type: ignore[call-arg]  # mypy is not smart enough here\u001b[39;00m\n\u001b[0;32m--> 229\u001b[0m \u001b[38;5;28;01mraise\u001b[39;00m exception_class(message, screen, stacktrace)\n",
      "\u001b[0;31mNoSuchElementException\u001b[0m: Message: no such element: Unable to locate element: {\"method\":\"xpath\",\"selector\":\"//div[contains(@class, 'Bta3n') and contains(@class, 'Btaon') and contains(text(), 'Download your changes as a file')]\"}\n  (Session info: chrome-headless-shell=121.0.6167.184); For documentation on this error, please visit: https://www.selenium.dev/documentation/webdriver/troubleshooting/errors#no-such-element-exception\nStacktrace:\n0   chromedriver                        0x0000000103222814 chromedriver + 4040724\n1   chromedriver                        0x000000010321aa18 chromedriver + 4008472\n2   chromedriver                        0x0000000102e8d870 chromedriver + 284784\n3   chromedriver                        0x0000000102ed1080 chromedriver + 561280\n4   chromedriver                        0x0000000102f0b048 chromedriver + 798792\n5   chromedriver                        0x0000000102ec574c chromedriver + 513868\n6   chromedriver                        0x0000000102ec6044 chromedriver + 516164\n7   chromedriver                        0x00000001031e7a3c chromedriver + 3799612\n8   chromedriver                        0x00000001031ebf1c chromedriver + 3817244\n9   chromedriver                        0x00000001031d0298 chromedriver + 3703448\n10  chromedriver                        0x00000001031eca64 chromedriver + 3820132\n11  chromedriver                        0x00000001031c3054 chromedriver + 3649620\n12  chromedriver                        0x0000000103209e74 chromedriver + 3939956\n13  chromedriver                        0x0000000103209fec chromedriver + 3940332\n14  chromedriver                        0x000000010321a698 chromedriver + 4007576\n15  libsystem_pthread.dylib             0x00000001ac769240 _pthread_start + 148\n16  libsystem_pthread.dylib             0x00000001ac764024 thread_start + 8\n"
     ]
    }
   ],
   "source": [
    "songsterr_urls = return_links(links_driver,scroll_down)\n",
    "get_gp_files(songsterr_urls)"
   ]
  }
 ],
 "metadata": {
  "kernelspec": {
   "display_name": "Python 3.11.3 ('base')",
   "language": "python",
   "name": "python3"
  },
  "language_info": {
   "codemirror_mode": {
    "name": "ipython",
    "version": 3
   },
   "file_extension": ".py",
   "mimetype": "text/x-python",
   "name": "python",
   "nbconvert_exporter": "python",
   "pygments_lexer": "ipython3",
   "version": "3.11.3"
  },
  "orig_nbformat": 4,
  "vscode": {
   "interpreter": {
    "hash": "fe99b10efe69d22e6b122725081ede3096955700fc42b29f6ab519b32f5e2d9b"
   }
  }
 },
 "nbformat": 4,
 "nbformat_minor": 2
}
