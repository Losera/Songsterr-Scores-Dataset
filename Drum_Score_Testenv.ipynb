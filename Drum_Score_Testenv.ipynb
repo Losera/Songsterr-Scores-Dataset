{
 "cells": [
  {
   "cell_type": "code",
   "execution_count": 1,
   "metadata": {},
   "outputs": [],
   "source": [
    "from selenium import webdriver\n",
    "from selenium.webdriver.common.desired_capabilities import DesiredCapabilities\n",
    "from selenium.webdriver.common.by import By\n",
    "from selenium.webdriver.chrome.service import Service\n",
    "from selenium.webdriver.common.action_chains import ActionChains\n",
    "from webdriver_manager.chrome import ChromeDriverManager\n",
    "from concurrent.futures import ThreadPoolExecutor\n",
    "from selenium.webdriver.support.ui import WebDriverWait\n",
    "from selenium.webdriver.support import expected_conditions as EC\n",
    "from selenium.webdriver.common.keys import Keys\n",
    "import asyncio\n",
    "import time\n",
    "import os\n",
    "\n"
   ]
  },
  {
   "cell_type": "code",
   "execution_count": 2,
   "metadata": {},
   "outputs": [],
   "source": [
    "drum_score_folder = \"/Users/jnaran/Desktop/SongsterrAPI/Drum_Scores\"\n",
    "sign_in_url = \"https://www.songsterr.com/a/wa/signin\""
   ]
  },
  {
   "cell_type": "code",
   "execution_count": 49,
   "metadata": {},
   "outputs": [],
   "source": [
    "chrome_options = webdriver.ChromeOptions()\n",
    "\n",
    "\n",
    "chrome_options.add_experimental_option(\"prefs\",{\n",
    "    \"download.default_directory\": drum_score_folder,\n",
    "    \"download.prompt_for_download\": False,\n",
    "    \"download.directory_upgrade\": True,\n",
    "    \"safebrowsing.enabled\": True\n",
    "})"
   ]
  },
  {
   "cell_type": "code",
   "execution_count": 50,
   "metadata": {},
   "outputs": [],
   "source": [
    "nirvana_urls = [\"https://www.songsterr.com/a/wsa/nirvana-smells-like-teen-spirit-drum-tab-s269\",'https://www.songsterr.com/a/wsa/metallica-enter-sandman-drum-tab-s19']"
   ]
  },
  {
   "cell_type": "code",
   "execution_count": 51,
   "metadata": {},
   "outputs": [],
   "source": [
    "score_driver = webdriver.Chrome(options=chrome_options)\n",
    "wait = WebDriverWait(score_driver, 10)"
   ]
  },
  {
   "cell_type": "code",
   "execution_count": 44,
   "metadata": {},
   "outputs": [],
   "source": [
    "def login(login_driver):\n",
    "\n",
    "    login_keys = ['juanfnaran@gmail.com','5u+#Z}*V;~6;zyd']\n",
    "\n",
    "    username = wait.until(EC.presence_of_element_located((By.CSS_SELECTOR, \"input.B251yx.B252q4[type='email']\")))\n",
    "    password = wait.until(EC.presence_of_element_located((By.CSS_SELECTOR, \"input.B251yx.B252q4[type='password']\")))\n",
    "\n",
    "    username.send_keys(login_keys[0])\n",
    "    password.send_keys(login_keys[1])\n",
    "\n",
    "    login_button = login_driver.find_element(By.CSS_SELECTOR, \"#signin\")\n",
    "    login_button.click()\n",
    "\n",
    "    return login_driver"
   ]
  },
  {
   "cell_type": "code",
   "execution_count": 45,
   "metadata": {},
   "outputs": [],
   "source": [
    "def action_click(element,driver):\n",
    "    actions = ActionChains(driver)\n",
    "    actions.move_to_element(element)\n",
    "    actions.click()\n",
    "    actions.perform()"
   ]
  },
  {
   "cell_type": "code",
   "execution_count": 46,
   "metadata": {},
   "outputs": [],
   "source": [
    "def login_check(score_driver,timeout=10):\n",
    "    counter = 0\n",
    "    while score_driver.current_url != \"https://www.songsterr.com/\":\n",
    "        time.sleep(1)\n",
    "        counter += 1\n",
    "        if counter > timeout:\n",
    "            raise Exception(\"Login timeout\")\n",
    "   "
   ]
  },
  {
   "cell_type": "code",
   "execution_count": 52,
   "metadata": {},
   "outputs": [],
   "source": [
    "def get_gp_files(score_driver,nirvana_urls):\n",
    "\n",
    "    for url in nirvana_urls:\n",
    "        score_driver.get(sign_in_url)\n",
    "\n",
    "        #Logging in\n",
    "        login(score_driver)\n",
    "        login_check(score_driver)\n",
    "\n",
    "        score_driver.get(url)\n",
    "\n",
    "        b1 = wait.until(EC.presence_of_element_located((By.CSS_SELECTOR, \"button#control-editor.Co02os\")))\n",
    "        b1.click()\n",
    "        \n",
    "        b2 = wait.until(EC.presence_of_element_located((By.CSS_SELECTOR,'rect.Bz2q3')))\n",
    "        action_click(b2,score_driver)\n",
    "\n",
    "        b3 = wait.until(EC.presence_of_element_located((By.CSS_SELECTOR,\"button.z44l.z4xx[type='submit']\")))\n",
    "        b3.click()\n",
    "        \n",
    "        b4 = wait.until(EC.element_to_be_clickable((By.ID,\"control-submitrevision\")))\n",
    "        b4.click()\n",
    "\n",
    "        b5 = wait.until(EC.presence_of_element_located((By.CSS_SELECTOR, \"div.Bta3n.Btaon\")))\n",
    "        b5.click()\n",
    "    "
   ]
  },
  {
   "cell_type": "code",
   "execution_count": 53,
   "metadata": {},
   "outputs": [
    {
     "ename": "NoSuchWindowException",
     "evalue": "Message: no such window: target window already closed\nfrom unknown error: web view not found\n  (Session info: chrome=122.0.6261.69)\nStacktrace:\n0   chromedriver                        0x00000001048c8580 chromedriver + 3966336\n1   chromedriver                        0x00000001048c0b0c chromedriver + 3934988\n2   chromedriver                        0x0000000104543da0 chromedriver + 277920\n3   chromedriver                        0x000000010451efb0 chromedriver + 126896\n4   chromedriver                        0x00000001045ab414 chromedriver + 701460\n5   chromedriver                        0x00000001045be304 chromedriver + 779012\n6   chromedriver                        0x000000010457afb0 chromedriver + 503728\n7   chromedriver                        0x000000010457ba28 chromedriver + 506408\n8   chromedriver                        0x000000010488d768 chromedriver + 3725160\n9   chromedriver                        0x0000000104891c5c chromedriver + 3742812\n10  chromedriver                        0x0000000104876250 chromedriver + 3629648\n11  chromedriver                        0x0000000104892758 chromedriver + 3745624\n12  chromedriver                        0x00000001048695c8 chromedriver + 3577288\n13  chromedriver                        0x00000001048b0fb8 chromedriver + 3870648\n14  chromedriver                        0x00000001048b115c chromedriver + 3871068\n15  chromedriver                        0x00000001048c077c chromedriver + 3934076\n16  libsystem_pthread.dylib             0x00000001ac769240 _pthread_start + 148\n17  libsystem_pthread.dylib             0x00000001ac764024 thread_start + 8\n",
     "output_type": "error",
     "traceback": [
      "\u001b[0;31m---------------------------------------------------------------------------\u001b[0m",
      "\u001b[0;31mNoSuchWindowException\u001b[0m                     Traceback (most recent call last)",
      "Cell \u001b[0;32mIn[53], line 1\u001b[0m\n\u001b[0;32m----> 1\u001b[0m get_gp_files(score_driver,nirvana_urls)\n",
      "Cell \u001b[0;32mIn[52], line 8\u001b[0m, in \u001b[0;36mget_gp_files\u001b[0;34m(score_driver, nirvana_urls)\u001b[0m\n\u001b[1;32m      6\u001b[0m \u001b[38;5;66;03m#Logging in\u001b[39;00m\n\u001b[1;32m      7\u001b[0m login(score_driver)\n\u001b[0;32m----> 8\u001b[0m login_check(score_driver)\n\u001b[1;32m     10\u001b[0m score_driver\u001b[38;5;241m.\u001b[39mget(url)\n\u001b[1;32m     12\u001b[0m b1 \u001b[38;5;241m=\u001b[39m wait\u001b[38;5;241m.\u001b[39muntil(EC\u001b[38;5;241m.\u001b[39mpresence_of_element_located((By\u001b[38;5;241m.\u001b[39mCSS_SELECTOR, \u001b[38;5;124m\"\u001b[39m\u001b[38;5;124mbutton#control-editor.Co02os\u001b[39m\u001b[38;5;124m\"\u001b[39m)))\n",
      "Cell \u001b[0;32mIn[46], line 3\u001b[0m, in \u001b[0;36mlogin_check\u001b[0;34m(score_driver, timeout)\u001b[0m\n\u001b[1;32m      1\u001b[0m \u001b[38;5;28;01mdef\u001b[39;00m \u001b[38;5;21mlogin_check\u001b[39m(score_driver,timeout\u001b[38;5;241m=\u001b[39m\u001b[38;5;241m10\u001b[39m):\n\u001b[1;32m      2\u001b[0m     counter \u001b[38;5;241m=\u001b[39m \u001b[38;5;241m0\u001b[39m\n\u001b[0;32m----> 3\u001b[0m     \u001b[38;5;28;01mwhile\u001b[39;00m score_driver\u001b[38;5;241m.\u001b[39mcurrent_url \u001b[38;5;241m!=\u001b[39m \u001b[38;5;124m\"\u001b[39m\u001b[38;5;124mhttps://www.songsterr.com/\u001b[39m\u001b[38;5;124m\"\u001b[39m:\n\u001b[1;32m      4\u001b[0m         time\u001b[38;5;241m.\u001b[39msleep(\u001b[38;5;241m1\u001b[39m)\n\u001b[1;32m      5\u001b[0m         counter \u001b[38;5;241m+\u001b[39m\u001b[38;5;241m=\u001b[39m \u001b[38;5;241m1\u001b[39m\n",
      "File \u001b[0;32m~/anaconda3/lib/python3.11/site-packages/selenium/webdriver/remote/webdriver.py:437\u001b[0m, in \u001b[0;36mWebDriver.current_url\u001b[0;34m(self)\u001b[0m\n\u001b[1;32m    428\u001b[0m \u001b[38;5;129m@property\u001b[39m\n\u001b[1;32m    429\u001b[0m \u001b[38;5;28;01mdef\u001b[39;00m \u001b[38;5;21mcurrent_url\u001b[39m(\u001b[38;5;28mself\u001b[39m) \u001b[38;5;241m-\u001b[39m\u001b[38;5;241m>\u001b[39m \u001b[38;5;28mstr\u001b[39m:\n\u001b[1;32m    430\u001b[0m \u001b[38;5;250m    \u001b[39m\u001b[38;5;124;03m\"\"\"Gets the URL of the current page.\u001b[39;00m\n\u001b[1;32m    431\u001b[0m \n\u001b[1;32m    432\u001b[0m \u001b[38;5;124;03m    :Usage:\u001b[39;00m\n\u001b[0;32m   (...)\u001b[0m\n\u001b[1;32m    435\u001b[0m \u001b[38;5;124;03m            driver.current_url\u001b[39;00m\n\u001b[1;32m    436\u001b[0m \u001b[38;5;124;03m    \"\"\"\u001b[39;00m\n\u001b[0;32m--> 437\u001b[0m     \u001b[38;5;28;01mreturn\u001b[39;00m \u001b[38;5;28mself\u001b[39m\u001b[38;5;241m.\u001b[39mexecute(Command\u001b[38;5;241m.\u001b[39mGET_CURRENT_URL)[\u001b[38;5;124m\"\u001b[39m\u001b[38;5;124mvalue\u001b[39m\u001b[38;5;124m\"\u001b[39m]\n",
      "File \u001b[0;32m~/anaconda3/lib/python3.11/site-packages/selenium/webdriver/remote/webdriver.py:347\u001b[0m, in \u001b[0;36mWebDriver.execute\u001b[0;34m(self, driver_command, params)\u001b[0m\n\u001b[1;32m    345\u001b[0m response \u001b[38;5;241m=\u001b[39m \u001b[38;5;28mself\u001b[39m\u001b[38;5;241m.\u001b[39mcommand_executor\u001b[38;5;241m.\u001b[39mexecute(driver_command, params)\n\u001b[1;32m    346\u001b[0m \u001b[38;5;28;01mif\u001b[39;00m response:\n\u001b[0;32m--> 347\u001b[0m     \u001b[38;5;28mself\u001b[39m\u001b[38;5;241m.\u001b[39merror_handler\u001b[38;5;241m.\u001b[39mcheck_response(response)\n\u001b[1;32m    348\u001b[0m     response[\u001b[38;5;124m\"\u001b[39m\u001b[38;5;124mvalue\u001b[39m\u001b[38;5;124m\"\u001b[39m] \u001b[38;5;241m=\u001b[39m \u001b[38;5;28mself\u001b[39m\u001b[38;5;241m.\u001b[39m_unwrap_value(response\u001b[38;5;241m.\u001b[39mget(\u001b[38;5;124m\"\u001b[39m\u001b[38;5;124mvalue\u001b[39m\u001b[38;5;124m\"\u001b[39m, \u001b[38;5;28;01mNone\u001b[39;00m))\n\u001b[1;32m    349\u001b[0m     \u001b[38;5;28;01mreturn\u001b[39;00m response\n",
      "File \u001b[0;32m~/anaconda3/lib/python3.11/site-packages/selenium/webdriver/remote/errorhandler.py:229\u001b[0m, in \u001b[0;36mErrorHandler.check_response\u001b[0;34m(self, response)\u001b[0m\n\u001b[1;32m    227\u001b[0m         alert_text \u001b[38;5;241m=\u001b[39m value[\u001b[38;5;124m\"\u001b[39m\u001b[38;5;124malert\u001b[39m\u001b[38;5;124m\"\u001b[39m]\u001b[38;5;241m.\u001b[39mget(\u001b[38;5;124m\"\u001b[39m\u001b[38;5;124mtext\u001b[39m\u001b[38;5;124m\"\u001b[39m)\n\u001b[1;32m    228\u001b[0m     \u001b[38;5;28;01mraise\u001b[39;00m exception_class(message, screen, stacktrace, alert_text)  \u001b[38;5;66;03m# type: ignore[call-arg]  # mypy is not smart enough here\u001b[39;00m\n\u001b[0;32m--> 229\u001b[0m \u001b[38;5;28;01mraise\u001b[39;00m exception_class(message, screen, stacktrace)\n",
      "\u001b[0;31mNoSuchWindowException\u001b[0m: Message: no such window: target window already closed\nfrom unknown error: web view not found\n  (Session info: chrome=122.0.6261.69)\nStacktrace:\n0   chromedriver                        0x00000001048c8580 chromedriver + 3966336\n1   chromedriver                        0x00000001048c0b0c chromedriver + 3934988\n2   chromedriver                        0x0000000104543da0 chromedriver + 277920\n3   chromedriver                        0x000000010451efb0 chromedriver + 126896\n4   chromedriver                        0x00000001045ab414 chromedriver + 701460\n5   chromedriver                        0x00000001045be304 chromedriver + 779012\n6   chromedriver                        0x000000010457afb0 chromedriver + 503728\n7   chromedriver                        0x000000010457ba28 chromedriver + 506408\n8   chromedriver                        0x000000010488d768 chromedriver + 3725160\n9   chromedriver                        0x0000000104891c5c chromedriver + 3742812\n10  chromedriver                        0x0000000104876250 chromedriver + 3629648\n11  chromedriver                        0x0000000104892758 chromedriver + 3745624\n12  chromedriver                        0x00000001048695c8 chromedriver + 3577288\n13  chromedriver                        0x00000001048b0fb8 chromedriver + 3870648\n14  chromedriver                        0x00000001048b115c chromedriver + 3871068\n15  chromedriver                        0x00000001048c077c chromedriver + 3934076\n16  libsystem_pthread.dylib             0x00000001ac769240 _pthread_start + 148\n17  libsystem_pthread.dylib             0x00000001ac764024 thread_start + 8\n"
     ]
    }
   ],
   "source": [
    "get_gp_files(score_driver,nirvana_urls)"
   ]
  }
 ],
 "metadata": {
  "kernelspec": {
   "display_name": "base",
   "language": "python",
   "name": "python3"
  },
  "language_info": {
   "codemirror_mode": {
    "name": "ipython",
    "version": 3
   },
   "file_extension": ".py",
   "mimetype": "text/x-python",
   "name": "python",
   "nbconvert_exporter": "python",
   "pygments_lexer": "ipython3",
   "version": "3.11.3"
  }
 },
 "nbformat": 4,
 "nbformat_minor": 2
}
